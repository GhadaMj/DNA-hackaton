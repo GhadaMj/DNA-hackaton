{
 "cells": [
  {
   "cell_type": "code",
   "execution_count": 1,
   "id": "earned-elder",
   "metadata": {},
   "outputs": [],
   "source": [
    "a=['Computer vision'\n",
    ",'Docker'\n",
    ",'NLP'\n",
    ",'ReactJS'\n",
    ",'NodeJS'\n",
    ",'Blockchain'\n",
    ",'Firebase'\n",
    ",'Cloud'\n",
    ",'php'\n",
    ",'Javascript'\n",
    ",'typescript'\n",
    ",'CSS'\n",
    ",'AJAX'\n",
    ",'REST'\n",
    ",'Angular'\n",
    ",'ASP .NET'\n",
    ",'Git'\n",
    ",'PostgreSQL'\n",
    ",'Flask/Fast API'\n",
    ",'Django'\n",
    ",'Dash'\n",
    ",'JavaEE'\n",
    ",'IBM watson'\n",
    ",'IBM services'\n",
    ",'Big data'\n",
    ",'Android studio'\n",
    ",'DevOps'\n",
    ",'Jenkins'\n",
    ",'Oracle'\n",
    ",'SprongBoot'\n",
    ",'Laravel'\n",
    ",'Microsoft Excel'\n",
    ",'Microsoft Office'\n",
    ",'HTML'\n",
    ",'SQL'\n",
    ",'Modeling'\n",
    ",'Analytics'\n",
    ",'Apache'\n",
    ",'Data Collection'\n",
    ",'Business Requirements'\n",
    ",'Data Mining'\n",
    ",'Data Science'\n",
    ",'Visualization'\n",
    ",'Sql Server'\n",
    ",'Statistical Modeling'\n",
    ",'R'\n",
    ",'C'\n",
    ",'C++'\n",
    ",'C#'\n",
    ",'Ruby'\n",
    ",'Ruby on Rails'\n",
    ",'Matlab'\n",
    ",'Django'\n",
    ",'NetBeans'\n",
    ",'Mathematics'\n",
    ",'Forecasts'\n",
    ",'Statistics'\n",
    ",'Python'\n",
    ",'NoSql'\n",
    ",'Hadoop'\n",
    ",'Spark'\n",
    ",'Java'\n",
    ",'Numpy'\n",
    ",'Pandas'\n",
    ",'scikit-learn'\n",
    ",'clustering'\n",
    ",'classification'\n",
    ",'neural networks'\n",
    ",'tensorflow'\n",
    ",'pytorch'\n",
    ",'theano'\n",
    ",'keras'\n",
    ",'Pig'\n",
    ",'Adaboost'\n",
    ",'machine learning'\n",
    ",'regression'\n",
    ",'kmeans'\n",
    ",'kNN'\n",
    ",'Bayesian Probability'\n",
    ",'Bayesian Network'\n",
    ",'Random Forest'\n",
    ",'Decision Tree'\n",
    ",'Matrix Factorization'\n",
    ",'SVD'\n",
    ",'Outlier detection'\n",
    ",'Regression Analysis'\n",
    ",'Classification Analysis'\n",
    ",'Backpropagation'\n",
    ",'LogitBoost'\n",
    ",'Time Series'\n",
    ",'PCA'\n",
    ",'AWS'\n",
    ",'Object Oriented Programming'\n",
    ",'Computational complexity'\n",
    ",'Constraint-based Programming'\n",
    ",'DBMS'\n",
    ",'Database Techniques'\n",
    ",'Data Structures'\n",
    ",'Debugging'\n",
    ",'Design'\n",
    ",'Distributed Computing'\n",
    ",'Dimensionality Reduction'\n",
    ",'Embedded Hardware'\n",
    ",'iOS'\n",
    ",'Linux'\n",
    ",'MacOS'\n",
    ",'Mobile'\n",
    ",'Optimizing'\n",
    ",'Parallel Processing'\n",
    ",'Planning'\n",
    ",'Post Object Programming'\n",
    ",'Problem Solving'\n",
    ",'Quality Control'\n",
    ",'Relational Databases'\n",
    ",'Reporting'\n",
    ",'Revision Control'\n",
    ",'System Architecture'\n",
    ",'A/B Testing'\n",
    ",'Troubleshooting'\n",
    ",'UNIX'\n",
    ",'Web Applications'\n",
    ",'Web Platforms'\n",
    ",'Web Services'\n",
    ",'OS Windows'\n",
    "]"
   ]
  },
  {
   "cell_type": "code",
   "execution_count": 2,
   "id": "sufficient-fiction",
   "metadata": {},
   "outputs": [
    {
     "name": "stdout",
     "output_type": "stream",
     "text": [
      "['Computer vision', 'Docker', 'NLP', 'ReactJS', 'NodeJS', 'Blockchain', 'Firebase', 'Cloud', 'php', 'Javascript', 'typescript', 'CSS', 'AJAX', 'REST', 'Angular', 'ASP .NET', 'Git', 'PostgreSQL', 'Flask/Fast API', 'Django', 'Dash', 'JavaEE', 'IBM watson', 'IBM services', 'Big data', 'Android studio', 'DevOps', 'Jenkins', 'Oracle', 'SprongBoot', 'Laravel', 'Microsoft Excel', 'Microsoft Office', 'HTML', 'SQL', 'Modeling', 'Analytics', 'Apache', 'Data Collection', 'Business Requirements', 'Data Mining', 'Data Science', 'Visualization', 'Sql Server', 'Statistical Modeling', 'R', 'C', 'C++', 'C#', 'Ruby', 'Ruby on Rails', 'Matlab', 'Django', 'NetBeans', 'Mathematics', 'Forecasts', 'Statistics', 'Python', 'NoSql', 'Hadoop', 'Spark', 'Java', 'Numpy', 'Pandas', 'scikit-learn', 'clustering', 'classification', 'neural networks', 'tensorflow', 'pytorch', 'theano', 'keras', 'Pig', 'Adaboost', 'machine learning', 'regression', 'kmeans', 'kNN', 'Bayesian Probability', 'Bayesian Network', 'Random Forest', 'Decision Tree', 'Matrix Factorization', 'SVD', 'Outlier detection', 'Regression Analysis', 'Classification Analysis', 'Backpropagation', 'LogitBoost', 'Time Series', 'PCA', 'AWS', 'Object Oriented Programming', 'Computational complexity', 'Constraint-based Programming', 'DBMS', 'Database Techniques', 'Data Structures', 'Debugging', 'Design', 'Distributed Computing', 'Dimensionality Reduction', 'Embedded Hardware', 'iOS', 'Linux', 'MacOS', 'Mobile', 'Optimizing', 'Parallel Processing', 'Planning', 'Post Object Programming', 'Problem Solving', 'Quality Control', 'Relational Databases', 'Reporting', 'Revision Control', 'System Architecture', 'A/B Testing', 'Troubleshooting', 'UNIX', 'Web Applications', 'Web Platforms', 'Web Services', 'OS Windows']\n"
     ]
    }
   ],
   "source": [
    "print(a)"
   ]
  },
  {
   "cell_type": "code",
   "execution_count": 5,
   "id": "involved-bennett",
   "metadata": {},
   "outputs": [],
   "source": [
    "import random\n",
    "users= [random.sample(a,10) for i in range(5)]\n"
   ]
  },
  {
   "cell_type": "code",
   "execution_count": 6,
   "id": "plain-recovery",
   "metadata": {
    "scrolled": true
   },
   "outputs": [
    {
     "data": {
      "text/plain": [
       "[['Ruby',\n",
       "  'Java',\n",
       "  'Data Mining',\n",
       "  'Computer vision',\n",
       "  'CSS',\n",
       "  'C#',\n",
       "  'SprongBoot',\n",
       "  'Backpropagation',\n",
       "  'IBM services',\n",
       "  'Apache'],\n",
       " ['scikit-learn',\n",
       "  'Dimensionality Reduction',\n",
       "  'System Architecture',\n",
       "  'Django',\n",
       "  'Data Mining',\n",
       "  'Sql Server',\n",
       "  'Database Techniques',\n",
       "  'Random Forest',\n",
       "  'AWS',\n",
       "  'DBMS'],\n",
       " ['Problem Solving',\n",
       "  'Apache',\n",
       "  'Bayesian Probability',\n",
       "  'NoSql',\n",
       "  'R',\n",
       "  'System Architecture',\n",
       "  'Linux',\n",
       "  'Web Services',\n",
       "  'AJAX',\n",
       "  'NLP'],\n",
       " ['Planning',\n",
       "  'Hadoop',\n",
       "  'Classification Analysis',\n",
       "  'Matrix Factorization',\n",
       "  'Javascript',\n",
       "  'kmeans',\n",
       "  'iOS',\n",
       "  'SprongBoot',\n",
       "  'Dash',\n",
       "  'Design'],\n",
       " ['Adaboost',\n",
       "  'NodeJS',\n",
       "  'Quality Control',\n",
       "  'Django',\n",
       "  'Data Structures',\n",
       "  'Pandas',\n",
       "  'Laravel',\n",
       "  'Ruby',\n",
       "  'Optimizing',\n",
       "  'Analytics']]"
      ]
     },
     "execution_count": 6,
     "metadata": {},
     "output_type": "execute_result"
    }
   ],
   "source": [
    "users"
   ]
  },
  {
   "cell_type": "code",
   "execution_count": 7,
   "id": "liberal-prayer",
   "metadata": {},
   "outputs": [],
   "source": [
    "projects= [random.sample(a,12) for i in range(2)]"
   ]
  },
  {
   "cell_type": "code",
   "execution_count": 8,
   "id": "reduced-quantum",
   "metadata": {
    "scrolled": true
   },
   "outputs": [
    {
     "data": {
      "text/plain": [
       "[['Data Collection',\n",
       "  'php',\n",
       "  'Ruby',\n",
       "  'AWS',\n",
       "  'theano',\n",
       "  'ASP .NET',\n",
       "  'NetBeans',\n",
       "  'C#',\n",
       "  'Big data',\n",
       "  'Analytics',\n",
       "  'Cloud',\n",
       "  'pytorch'],\n",
       " ['tensorflow',\n",
       "  'Time Series',\n",
       "  'Statistical Modeling',\n",
       "  'CSS',\n",
       "  'Web Applications',\n",
       "  'Flask/Fast API',\n",
       "  'LogitBoost',\n",
       "  'Matlab',\n",
       "  'Classification Analysis',\n",
       "  'AWS',\n",
       "  'Forecasts',\n",
       "  'OS Windows']]"
      ]
     },
     "execution_count": 8,
     "metadata": {},
     "output_type": "execute_result"
    }
   ],
   "source": [
    "projects"
   ]
  },
  {
   "cell_type": "code",
   "execution_count": 47,
   "id": "polish-panama",
   "metadata": {
    "scrolled": true
   },
   "outputs": [
    {
     "data": {
      "text/plain": [
       "[{'id': 0, 'match': 16.67},\n",
       " {'id': 1, 'match': 8.33},\n",
       " {'id': 2, 'match': 0.0},\n",
       " {'id': 3, 'match': 0.0},\n",
       " {'id': 4, 'match': 16.67}]"
      ]
     },
     "execution_count": 47,
     "metadata": {},
     "output_type": "execute_result"
    }
   ],
   "source": [
    "matches=[]\n",
    "match=[]\n",
    "for i in range(len(users)):\n",
    "    match.append({'id':i, 'match': round((len(set(users[i])&set(projects[0]))/len(projects[0]) *100), 2)})\n",
    "match"
   ]
  },
  {
   "cell_type": "code",
   "execution_count": 48,
   "id": "accompanied-apache",
   "metadata": {},
   "outputs": [
    {
     "data": {
      "text/plain": [
       "[{'id': 0, 'match': 16.67},\n",
       " {'id': 4, 'match': 16.67},\n",
       " {'id': 1, 'match': 8.33},\n",
       " {'id': 2, 'match': 0.0},\n",
       " {'id': 3, 'match': 0.0}]"
      ]
     },
     "execution_count": 48,
     "metadata": {},
     "output_type": "execute_result"
    }
   ],
   "source": [
    "newlist = sorted(match, key=lambda k: k['match'], reverse=True) \n",
    "newlist"
   ]
  },
  {
   "cell_type": "markdown",
   "id": "surprised-database",
   "metadata": {},
   "source": [
    "_________"
   ]
  },
  {
   "cell_type": "markdown",
   "id": "least-satellite",
   "metadata": {},
   "source": [
    "# API Flask"
   ]
  },
  {
   "cell_type": "code",
   "execution_count": null,
   "id": "special-correspondence",
   "metadata": {},
   "outputs": [],
   "source": [
    "from flask import Flask , render_template, request, url_for, flash, redirect\n",
    "from werkzeug.exceptions import abort\n",
    "import pandas as pd\n",
    "import numpy as np\n",
    "from flask import jsonify\n",
    "\n",
    "from flask_cors import CORS\n",
    "\n",
    "#import pickle\n",
    "app = Flask(__name__)\n",
    "\n",
    "cors = CORS(app)\n",
    "\n",
    "app.config['SECRET_KEY'] = 'matching'\n",
    "\n",
    "\n",
    "\n",
    "\n",
    "@app.route('/matching', methods=('GET', 'POST'))\n",
    "def matching():\n",
    "    project = request.args.get('project')\n",
    "    users = request.args.get('users')\n",
    "    response = {}\n",
    "    #with open('questions_log.txt', 'a') as f:\n",
    "    try:\n",
    "        match=[]\n",
    "        j=1\n",
    "        for i in users:\n",
    "            match.append({'id':i, 'match': round((len(set(users[i]['skills'])&set(projects['skills']))/len(projects['skills']) *100), 2)})\n",
    "        match\n",
    "    \n",
    "        response ={\"user\"+str(j):users[i]['person_Id'], \"match\": percent, \"skillInCommon\": []}\n",
    "        j=j+1\n",
    "        \n",
    "    except:\n",
    "        response={}\n",
    "\n",
    "    return jsonify(response), 200  \n",
    "\n",
    "\n",
    "\n",
    "\n",
    "if __name__== \"__main__\":\n",
    "\tapp.run(host='127.0.0.1',port=5001,debug=True)\n",
    "\n",
    "\n",
    "\n",
    "\n"
   ]
  },
  {
   "cell_type": "code",
   "execution_count": 58,
   "id": "natural-fortune",
   "metadata": {},
   "outputs": [
    {
     "ename": "TypeError",
     "evalue": "list indices must be integers or slices, not str",
     "output_type": "error",
     "traceback": [
      "\u001b[1;31m---------------------------------------------------------------------------\u001b[0m",
      "\u001b[1;31mTypeError\u001b[0m                                 Traceback (most recent call last)",
      "\u001b[1;32m<ipython-input-58-e453a9090bbc>\u001b[0m in \u001b[0;36m<module>\u001b[1;34m\u001b[0m\n\u001b[0;32m     23\u001b[0m \u001b[0mj\u001b[0m\u001b[1;33m=\u001b[0m\u001b[1;36m1\u001b[0m\u001b[1;33m\u001b[0m\u001b[1;33m\u001b[0m\u001b[0m\n\u001b[0;32m     24\u001b[0m \u001b[1;32mfor\u001b[0m \u001b[0mi\u001b[0m \u001b[1;32min\u001b[0m \u001b[0musers\u001b[0m\u001b[1;33m:\u001b[0m\u001b[1;33m\u001b[0m\u001b[1;33m\u001b[0m\u001b[0m\n\u001b[1;32m---> 25\u001b[1;33m     \u001b[0mmatch\u001b[0m\u001b[1;33m.\u001b[0m\u001b[0mappend\u001b[0m\u001b[1;33m(\u001b[0m\u001b[1;33m{\u001b[0m\u001b[1;34m'id'\u001b[0m\u001b[1;33m:\u001b[0m\u001b[0mi\u001b[0m\u001b[1;33m,\u001b[0m \u001b[1;34m'match'\u001b[0m\u001b[1;33m:\u001b[0m \u001b[0mround\u001b[0m\u001b[1;33m(\u001b[0m\u001b[1;33m(\u001b[0m\u001b[0mlen\u001b[0m\u001b[1;33m(\u001b[0m\u001b[0mset\u001b[0m\u001b[1;33m(\u001b[0m\u001b[0musers\u001b[0m\u001b[1;33m[\u001b[0m\u001b[0mi\u001b[0m\u001b[1;33m]\u001b[0m\u001b[1;33m[\u001b[0m\u001b[1;34m'skills'\u001b[0m\u001b[1;33m]\u001b[0m\u001b[1;33m)\u001b[0m\u001b[1;33m&\u001b[0m\u001b[0mset\u001b[0m\u001b[1;33m(\u001b[0m\u001b[0mprojects\u001b[0m\u001b[1;33m[\u001b[0m\u001b[1;34m'skills'\u001b[0m\u001b[1;33m]\u001b[0m\u001b[1;33m)\u001b[0m\u001b[1;33m)\u001b[0m\u001b[1;33m/\u001b[0m\u001b[0mlen\u001b[0m\u001b[1;33m(\u001b[0m\u001b[0mprojects\u001b[0m\u001b[1;33m[\u001b[0m\u001b[1;34m'skills'\u001b[0m\u001b[1;33m]\u001b[0m\u001b[1;33m)\u001b[0m \u001b[1;33m*\u001b[0m\u001b[1;36m100\u001b[0m\u001b[1;33m)\u001b[0m\u001b[1;33m,\u001b[0m \u001b[1;36m2\u001b[0m\u001b[1;33m)\u001b[0m\u001b[1;33m}\u001b[0m\u001b[1;33m)\u001b[0m\u001b[1;33m\u001b[0m\u001b[1;33m\u001b[0m\u001b[0m\n\u001b[0m\u001b[0;32m     26\u001b[0m \u001b[0mmatch\u001b[0m\u001b[1;33m\u001b[0m\u001b[1;33m\u001b[0m\u001b[0m\n\u001b[0;32m     27\u001b[0m \u001b[1;33m\u001b[0m\u001b[0m\n",
      "\u001b[1;31mTypeError\u001b[0m: list indices must be integers or slices, not str"
     ]
    }
   ],
   "source": [
    "project = {\"project_Id\":\"qualiphyCount\",\"skills\":[\"python\", \"computer vision\", \"Embedded system\", \"mongodb\", \"Docker\", \"pytorch\", \"onnx\",\"Data science\",\"AI\",\"Classification\"]}\n",
    "users = {\n",
    "\"user1\": {\"person_Id\":\"Seddik Bellamine\",\"skills\":[\"NodeJs, Blockchain, jQuery, PHP,JavaScript, Ethereum,Solidity Java, SQL, PL/SQL, HTML5, CSS3, JS, Ajax, Rest, API , GIT\"]}\n",
    ",\n",
    "\"user2\":{\"person_Id\":\"Nihel Hosni \",\"skills\":[\"Nodejs,Expressjs,Reactjs,Angular,  HTML,Bootstrap,CSS, ASP .NET CORE , C# JAVA,JEE ,Spring Boot MySQL,SQL Server , Mongodb,Sequelize Solidity,Blockchain\"]}\n",
    ",\n",
    "\"user3\":{\"person_Id\":\"Ghada Mjanah \",\"skills\":[\"NLP,Flask, Deep learning (classification + regression),Spyder/Jupyter/Anaconda GitHub/GitLab Deep Learning (JIRA, Confluence) Ticketing Systems Collaboration (Teams, Slack, Zoom, Webex, Miro u.a.) Python Flask Framework PuTTY FileZilla Client HTML, CSS Basic knowledge of Java programming language (IntelliJ IDEA IDE) Working with PostgreSQL database JSON Machine Learning\" ]}\n",
    ",\n",
    "\"user4\":{\"person_Id\":\"Sobhi Boughanmi \",\"skills\":[\"Versionning Git ,Bitbucket Conception Merise, UML, Design Pattern , SCRUM (JIRA Software) HTML/HTML5, CSS/CSS3,Javascript,NodeJS,Express.jsRedux architecture (hooks) ReactJS , Strapi headless CMS, Apollo Server 2,GraphQL,REST web services,Firebase,SCRUM (JIRA Software),React Material UI ,Jest testing,Sematic UI, Google Cloud Storage, C++, ASP.NET,C#, JEE, Hibernate, Java, MongoDB, SQL Server, MySQL, Swagger\"]}\n",
    ",\n",
    "\"user5\":{\"person_Id\":\"Haithem Hermassi \",\"skills\":[\"OS Windows  Linux (Fedora, Red Hat, Ubuntu), Programming C/C++, Java, Matlab, Python, PHP, XML,Data science & Machine learning SparkML, IBM Watson Studio, Tensorflow/Keras, Caffe, DataViz, Anaconda, AWS-ML, RDS, Microsoft Power BI, Vmware, Cloud Azure: Azure machine learning, Apache SystemML (DML), Matconvnet, IBM Watson IoT, Google colab. Grafana/Prometheus, Elastisticsearch/kibana, AWS-Elasticbeanstalk,  Databases & Big data tools Cloudera, Spark, Oracle: (6i, 10g, 11g), Mysql, Acess, Hadoop-Mapreduce & Yarn\" ]}\n",
    ",\n",
    "\"user6\":{\"person_Id\":\"Wafa Barguaoui  \",\"skills\":[\"Java, JavaScript, Python, cDéveloppement web:React JS, Springboot, NodeJs,ExpressJs, Laravel, HTML/CSS/phpBase des données, MySQL, PL/SQL,MongoDB Développement mobile: AndroidStudio,CMS: WordpressMeth. du dev de logiciels: Agile/Scrum, DevOps,UML, Windows, Linux\"]}\n",
    ",\n",
    "\"user7\":{\"person_Id\":\"Mahdi Barkia  \",\"skills\":[\" Python, Java, JavaScript, TypeScriptAngular 9, Tornado, Spring(Boot, Data MVC, Security) Jenkins, Docker, Ansible ,Saltstack, AWS, CI/CDUML, Merise, Design Pattern, Scrum.MySQL, Oracle SQL, MongoDB.Jinja2. Git. Windows, Linux(Ubuntu),Heroku, Bacula systems, Odoo, Nginx\"]}\n",
    "}\n",
    "\n",
    "\n",
    "\n",
    "response = {}\n",
    "#with open('questions_log.txt', 'a') as f:\n",
    "match=[]\n",
    "j=1\n",
    "for i in users:\n",
    "    match.append({'id':i, 'match': round((len(set(users[i]['skills'])&set(projects['skills']))/len(projects['skills']) *100), 2)})\n",
    "match\n",
    "\n",
    "response ={\"user\"+str(j):users[i]['person_Id'], \"match\": percent, \"skillInCommon\": []}\n",
    "j=j+1\n"
   ]
  },
  {
   "cell_type": "code",
   "execution_count": null,
   "id": "relevant-analysis",
   "metadata": {},
   "outputs": [],
   "source": []
  },
  {
   "cell_type": "code",
   "execution_count": 57,
   "id": "built-boutique",
   "metadata": {
    "scrolled": true
   },
   "outputs": [
    {
     "name": "stdout",
     "output_type": "stream",
     "text": [
      "{'user1': {'person_Id': 'Seddik Bellamine', 'skills': ['NodeJs, Blockchain, jQuery, PHP,JavaScript, Ethereum,Solidity Java, SQL, PL/SQL, HTML5, CSS3, JS, Ajax, Rest, API , GIT']}, 'user2': {'person_Id': 'Nihel Hosni ', 'skills': ['Nodejs,Expressjs,Reactjs,Angular,Â\\xa0 HTML,Bootstrap,CSS, ASP .NET CORE , C# JAVA,JEE ,Spring Boot MySQL,SQL Server , Mongodb,Sequelize Solidity,Blockchain']}, 'user3': {'person_Id': 'Ghada Mjanah ', 'skills': ['NLP,Flask, Deep learning (classification + regression),Spyder/Jupyter/Anaconda GitHub/GitLab Deep Learning (JIRA, Confluence) Ticketing Systems Collaboration (Teams, Slack, Zoom, Webex, Miro u.a.) Python Flask Framework PuTTY FileZilla Client HTML, CSS Basic knowledge of Java programming language (IntelliJ IDEA IDE) Working with PostgreSQL database JSON Machine Learning']}, 'user4': {'person_Id': 'Sobhi Boughanmi ', 'skills': ['Versionning Git ,Bitbucket Conception Merise, UML, Design Pattern , SCRUM (JIRA Software) HTML/HTML5, CSS/CSS3,Javascript,NodeJS,Express.jsRedux architecture (hooks) ReactJS , Strapi headless CMS, Apollo Server 2,GraphQL,REST web services,Firebase,SCRUM (JIRA Software),React Material UI ,Jest testing,Sematic UI, Google Cloud Storage, C++, ASP.NET,C#, JEE, Hibernate, Java, MongoDB, SQL Server, MySQL, Swagger']}, 'user5': {'person_Id': 'Haithem Hermassi ', 'skills': ['OS Windows  Linux (Fedora, Red Hat, Ubuntu), Programming C/C++, Java, Matlab, Python, PHP, XML,Data science & Machine learning SparkML, IBM Watson Studio, Tensorflow/Keras, Caffe, DataViz, Anaconda, AWS-ML, RDS, Microsoft Power BI, Vmware, Cloud Azure: Azure machine learning, Apache SystemML (DML), Matconvnet, IBM Watson IoT, Google colab. Grafana/Prometheus, Elastisticsearch/kibana, AWS-Elasticbeanstalk,  Databases & Big data tools Cloudera, Spark, Oracle: (6i, 10g, 11g), Mysql, Acess, Hadoop-Mapreduce & Yarn']}, 'user6': {'person_Id': 'Wafa Barguaoui  ', 'skills': ['Java, JavaScript, Python, cDÃ©veloppement web:React JS, Springboot, NodeJs,ExpressJs, Laravel, HTML/CSS/phpBase des donnÃ©es, MySQL, PL/SQL,MongoDB DÃ©veloppement mobile: AndroidStudio,CMS: WordpressMeth. du dev de logiciels: Agile/Scrum, DevOps,UML, Windows, Linux']}, 'user7': {'person_Id': 'Mahdi Barkia  ', 'skills': [' Python, Java, JavaScript, TypeScriptAngular 9, Tornado, Spring(Boot, Data MVC, Security) Jenkins, Docker, Ansible ,Saltstack, AWS, CI/CDUML, Merise, Design Pattern, Scrum.MySQL, Oracle SQL, MongoDB.Jinja2. Git. Windows, Linux(Ubuntu),Heroku, Bacula systems, Odoo, Nginx']}}\n"
     ]
    }
   ],
   "source": [
    "import json\n",
    "\n",
    "with open('person.json') as f:\n",
    "    d = json.load(f)\n",
    "    print(d)"
   ]
  },
  {
   "cell_type": "code",
   "execution_count": null,
   "id": "conditional-satisfaction",
   "metadata": {},
   "outputs": [],
   "source": []
  }
 ],
 "metadata": {
  "kernelspec": {
   "display_name": "Python 3",
   "language": "python",
   "name": "python3"
  },
  "language_info": {
   "codemirror_mode": {
    "name": "ipython",
    "version": 3
   },
   "file_extension": ".py",
   "mimetype": "text/x-python",
   "name": "python",
   "nbconvert_exporter": "python",
   "pygments_lexer": "ipython3",
   "version": "3.7.6"
  }
 },
 "nbformat": 4,
 "nbformat_minor": 5
}
